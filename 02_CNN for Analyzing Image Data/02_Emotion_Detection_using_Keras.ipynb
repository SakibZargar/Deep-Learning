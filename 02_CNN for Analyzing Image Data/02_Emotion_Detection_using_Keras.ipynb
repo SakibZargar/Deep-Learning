{
  "nbformat": 4,
  "nbformat_minor": 0,
  "metadata": {
    "kernelspec": {
      "display_name": "Python 3",
      "language": "python",
      "name": "python3"
    },
    "language_info": {
      "codemirror_mode": {
        "name": "ipython",
        "version": 3
      },
      "file_extension": ".py",
      "mimetype": "text/x-python",
      "name": "python",
      "nbconvert_exporter": "python",
      "pygments_lexer": "ipython3",
      "version": "3.6.0"
    },
    "colab": {
      "name": "Emotion Detection using Keras.ipynb",
      "provenance": [],
      "toc_visible": true
    }
  },
  "cells": [
    {
      "cell_type": "markdown",
      "metadata": {
        "id": "KavWggNGMmGc"
      },
      "source": [
        "**CNN model that uses images to check if the person is happy or not:------------------------------------------------------------------------------------**\n",
        "\n",
        "Training set: 600 Training images and 150 Test images of size (64,64,3)"
      ]
    },
    {
      "cell_type": "code",
      "metadata": {
        "id": "ER82BUXcJBX9",
        "outputId": "46a1c7fe-1aee-414e-d037-f481d2d3336c"
      },
      "source": [
        "import numpy as np\n",
        "from keras import layers\n",
        "from keras.layers import Input, Dense, Activation, ZeroPadding2D, BatchNormalization, Flatten, Conv2D\n",
        "from keras.layers import AveragePooling2D, MaxPooling2D, Dropout, GlobalMaxPooling2D, GlobalAveragePooling2D\n",
        "from keras.models import Model\n",
        "from keras.preprocessing import image\n",
        "from keras.utils import layer_utils\n",
        "from keras.utils.data_utils import get_file\n",
        "from keras.applications.imagenet_utils import preprocess_input\n",
        "import pydot\n",
        "from IPython.display import SVG\n",
        "from keras.utils.vis_utils import model_to_dot\n",
        "from keras.utils import plot_model\n",
        "from kt_utils import *\n",
        "\n",
        "import keras.backend as K\n",
        "K.set_image_data_format('channels_last')\n",
        "import matplotlib.pyplot as plt\n",
        "from matplotlib.pyplot import imshow\n",
        "\n",
        "%matplotlib inline"
      ],
      "execution_count": null,
      "outputs": [
        {
          "output_type": "stream",
          "text": [
            "Using TensorFlow backend.\n"
          ],
          "name": "stderr"
        }
      ]
    },
    {
      "cell_type": "code",
      "metadata": {
        "id": "jE-AfzLpJBYA",
        "outputId": "d78265fc-1574-4cca-d66e-21dcca0b601a"
      },
      "source": [
        "X_train_orig, Y_train_orig, X_test_orig, Y_test_orig, classes = load_dataset()\n",
        "\n",
        "X_train = X_train_orig/255.\n",
        "X_test = X_test_orig/255.\n",
        "Y_train = Y_train_orig.T\n",
        "Y_test = Y_test_orig.T\n",
        "\n",
        "print (\"number of training examples = \" + str(X_train.shape[0]))\n",
        "print (\"number of test examples = \" + str(X_test.shape[0]))\n",
        "print (\"X_train shape: \" + str(X_train.shape))\n",
        "print (\"Y_train shape: \" + str(Y_train.shape))\n",
        "print (\"X_test shape: \" + str(X_test.shape))\n",
        "print (\"Y_test shape: \" + str(Y_test.shape))"
      ],
      "execution_count": null,
      "outputs": [
        {
          "output_type": "stream",
          "text": [
            "number of training examples = 600\n",
            "number of test examples = 150\n",
            "X_train shape: (600, 64, 64, 3)\n",
            "Y_train shape: (600, 1)\n",
            "X_test shape: (150, 64, 64, 3)\n",
            "Y_test shape: (150, 1)\n"
          ],
          "name": "stdout"
        }
      ]
    },
    {
      "cell_type": "code",
      "metadata": {
        "collapsed": true,
        "id": "Pr22CPC1JBYC"
      },
      "source": [
        "def HappyModel(input_shape):\n",
        "    \"\"\"\n",
        "    Implementation of the HappyModel.\n",
        "    \n",
        "    Arguments:\n",
        "    input_shape -- shape of the images of the dataset\n",
        "\n",
        "    Returns:\n",
        "    model -- a Model() instance in Keras\n",
        "    \"\"\"\n",
        "\n",
        "    X_input = Input(input_shape)\n",
        "    X = ZeroPadding2D((3, 3))(X_input)\n",
        "    X = Conv2D(32, (7, 7), strides=(1, 1), name='conv0')(X)\n",
        "    X = BatchNormalization(axis=3, name='bn0')(X)\n",
        "    X = Activation('relu')(X)\n",
        "    X = MaxPooling2D((2, 2), name='max_pool')(X)\n",
        "    X = Flatten()(X)\n",
        "    X = Dense(1, activation='sigmoid', name='fc')(X)\n",
        "    model = Model(inputs=X_input, outputs=X, name='HappyModel')\n",
        "\n",
        "    return model"
      ],
      "execution_count": null,
      "outputs": []
    },
    {
      "cell_type": "code",
      "metadata": {
        "collapsed": true,
        "id": "f1FVmwjBJBYE"
      },
      "source": [
        "happyModel = HappyModel(X_train.shape[1:])"
      ],
      "execution_count": null,
      "outputs": []
    },
    {
      "cell_type": "code",
      "metadata": {
        "collapsed": true,
        "id": "px2I2DY-JBYF"
      },
      "source": [
        "happyModel.compile('adam', 'binary_crossentropy', metrics=['accuracy'])"
      ],
      "execution_count": null,
      "outputs": []
    },
    {
      "cell_type": "code",
      "metadata": {
        "id": "vcbLzoQJJBYF",
        "outputId": "a4bb3059-8372-4e77-9a02-94eefeac1f55"
      },
      "source": [
        "happyModel.fit(X_train, Y_train, epochs=40, batch_size=50)"
      ],
      "execution_count": null,
      "outputs": [
        {
          "output_type": "stream",
          "text": [
            "Epoch 1/40\n",
            "600/600 [==============================] - 12s - loss: 1.5360 - acc: 0.5900    \n",
            "Epoch 2/40\n",
            "600/600 [==============================] - 13s - loss: 0.4340 - acc: 0.8083    \n",
            "Epoch 3/40\n",
            "600/600 [==============================] - 12s - loss: 0.1771 - acc: 0.9250    \n",
            "Epoch 4/40\n",
            "600/600 [==============================] - 14s - loss: 0.1184 - acc: 0.9600    \n",
            "Epoch 5/40\n",
            "600/600 [==============================] - 14s - loss: 0.1027 - acc: 0.9617    \n",
            "Epoch 6/40\n",
            "600/600 [==============================] - 15s - loss: 0.0936 - acc: 0.9667    \n",
            "Epoch 7/40\n",
            "600/600 [==============================] - 15s - loss: 0.0744 - acc: 0.9783    \n",
            "Epoch 8/40\n",
            "600/600 [==============================] - 16s - loss: 0.0641 - acc: 0.9867    \n",
            "Epoch 9/40\n",
            "600/600 [==============================] - 14s - loss: 0.0753 - acc: 0.9733    \n",
            "Epoch 10/40\n",
            "600/600 [==============================] - 14s - loss: 0.0612 - acc: 0.9800    \n",
            "Epoch 11/40\n",
            "600/600 [==============================] - 15s - loss: 0.0519 - acc: 0.9833    \n",
            "Epoch 12/40\n",
            "600/600 [==============================] - 15s - loss: 0.0496 - acc: 0.9817    \n",
            "Epoch 13/40\n",
            "600/600 [==============================] - 15s - loss: 0.0457 - acc: 0.9900    \n",
            "Epoch 14/40\n",
            "600/600 [==============================] - 14s - loss: 0.0483 - acc: 0.9900    \n",
            "Epoch 15/40\n",
            "600/600 [==============================] - 15s - loss: 0.0329 - acc: 0.9933    \n",
            "Epoch 16/40\n",
            "600/600 [==============================] - 14s - loss: 0.0335 - acc: 0.9917    \n",
            "Epoch 17/40\n",
            "600/600 [==============================] - 15s - loss: 0.0344 - acc: 0.9867    \n",
            "Epoch 18/40\n",
            "600/600 [==============================] - 15s - loss: 0.0423 - acc: 0.9883    \n",
            "Epoch 19/40\n",
            "600/600 [==============================] - 15s - loss: 0.0282 - acc: 0.9900    \n",
            "Epoch 20/40\n",
            "600/600 [==============================] - 15s - loss: 0.0232 - acc: 0.9933    \n",
            "Epoch 21/40\n",
            "600/600 [==============================] - 15s - loss: 0.0206 - acc: 0.9967    \n",
            "Epoch 22/40\n",
            "600/600 [==============================] - 15s - loss: 0.0258 - acc: 0.9917    \n",
            "Epoch 23/40\n",
            "600/600 [==============================] - 15s - loss: 0.0179 - acc: 0.9950    \n",
            "Epoch 24/40\n",
            "600/600 [==============================] - 15s - loss: 0.0159 - acc: 0.9967    \n",
            "Epoch 25/40\n",
            "600/600 [==============================] - 15s - loss: 0.0206 - acc: 0.9950    \n",
            "Epoch 26/40\n",
            "600/600 [==============================] - 16s - loss: 0.0158 - acc: 1.0000    \n",
            "Epoch 27/40\n",
            "600/600 [==============================] - 15s - loss: 0.0166 - acc: 0.9917    \n",
            "Epoch 28/40\n",
            "600/600 [==============================] - 15s - loss: 0.0146 - acc: 0.9983    \n",
            "Epoch 29/40\n",
            "600/600 [==============================] - 17s - loss: 0.0206 - acc: 0.9950    \n",
            "Epoch 30/40\n",
            "600/600 [==============================] - 16s - loss: 0.0411 - acc: 0.9867    \n",
            "Epoch 31/40\n",
            "600/600 [==============================] - 15s - loss: 0.0268 - acc: 0.9933    \n",
            "Epoch 32/40\n",
            "600/600 [==============================] - 15s - loss: 0.0623 - acc: 0.9800    \n",
            "Epoch 33/40\n",
            "600/600 [==============================] - 15s - loss: 0.0984 - acc: 0.9567    \n",
            "Epoch 34/40\n",
            "600/600 [==============================] - 15s - loss: 0.0363 - acc: 0.9933    \n",
            "Epoch 35/40\n",
            "600/600 [==============================] - 16s - loss: 0.0343 - acc: 0.9883    \n",
            "Epoch 36/40\n",
            "600/600 [==============================] - 17s - loss: 0.0424 - acc: 0.9867    \n",
            "Epoch 37/40\n",
            "600/600 [==============================] - 18s - loss: 0.0277 - acc: 0.9933    \n",
            "Epoch 38/40\n",
            "600/600 [==============================] - 18s - loss: 0.0104 - acc: 1.0000    \n",
            "Epoch 39/40\n",
            "600/600 [==============================] - 15s - loss: 0.0152 - acc: 0.9950    \n",
            "Epoch 40/40\n",
            "600/600 [==============================] - 15s - loss: 0.0161 - acc: 0.9917    \n"
          ],
          "name": "stdout"
        },
        {
          "output_type": "execute_result",
          "data": {
            "text/plain": [
              "<keras.callbacks.History at 0x7fda947bed68>"
            ]
          },
          "metadata": {
            "tags": []
          },
          "execution_count": 6
        }
      ]
    },
    {
      "cell_type": "code",
      "metadata": {
        "scrolled": true,
        "id": "T_qffFIGJBYH",
        "outputId": "6c199d9a-ad1c-41eb-9fd7-f4ab4e0aeb95"
      },
      "source": [
        "preds = happyModel.evaluate(X_test, Y_test, batch_size=32, verbose=1, sample_weight=None)\n",
        "print()\n",
        "print (\"Loss = \" + str(preds[0]))\n",
        "print (\"Test Accuracy = \" + str(preds[1]))"
      ],
      "execution_count": null,
      "outputs": [
        {
          "output_type": "stream",
          "text": [
            "150/150 [==============================] - 2s     \n",
            "\n",
            "Loss = 0.200629468759\n",
            "Test Accuracy = 0.92666667064\n"
          ],
          "name": "stdout"
        }
      ]
    },
    {
      "cell_type": "code",
      "metadata": {
        "scrolled": false,
        "id": "tuG0cR3wJBYJ",
        "outputId": "ed290d64-bd2f-4992-eded-1519b98be689"
      },
      "source": [
        "happyModel.summary()"
      ],
      "execution_count": null,
      "outputs": [
        {
          "output_type": "stream",
          "text": [
            "_________________________________________________________________\n",
            "Layer (type)                 Output Shape              Param #   \n",
            "=================================================================\n",
            "input_1 (InputLayer)         (None, 64, 64, 3)         0         \n",
            "_________________________________________________________________\n",
            "zero_padding2d_1 (ZeroPaddin (None, 70, 70, 3)         0         \n",
            "_________________________________________________________________\n",
            "conv0 (Conv2D)               (None, 64, 64, 32)        4736      \n",
            "_________________________________________________________________\n",
            "bn0 (BatchNormalization)     (None, 64, 64, 32)        128       \n",
            "_________________________________________________________________\n",
            "activation_1 (Activation)    (None, 64, 64, 32)        0         \n",
            "_________________________________________________________________\n",
            "max_pool (MaxPooling2D)      (None, 32, 32, 32)        0         \n",
            "_________________________________________________________________\n",
            "flatten_1 (Flatten)          (None, 32768)             0         \n",
            "_________________________________________________________________\n",
            "fc (Dense)                   (None, 1)                 32769     \n",
            "=================================================================\n",
            "Total params: 37,633\n",
            "Trainable params: 37,569\n",
            "Non-trainable params: 64\n",
            "_________________________________________________________________\n"
          ],
          "name": "stdout"
        }
      ]
    },
    {
      "cell_type": "code",
      "metadata": {
        "id": "oEg5MachJBYJ",
        "outputId": "f3622f13-e055-47b8-c993-7156336bc850"
      },
      "source": [
        "plot_model(happyModel, to_file='HappyModel.png')\n",
        "SVG(model_to_dot(happyModel).create(prog='dot', format='svg'))"
      ],
      "execution_count": null,
      "outputs": [
        {
          "output_type": "execute_result",
          "data": {
            "image/svg+xml": "<svg height=\"556pt\" viewBox=\"0.00 0.00 225.00 556.00\" width=\"225pt\" xmlns=\"http://www.w3.org/2000/svg\" xmlns:xlink=\"http://www.w3.org/1999/xlink\">\n<g class=\"graph\" id=\"graph0\" transform=\"scale(1 1) rotate(0) translate(4 552)\">\n<title>G</title>\n<polygon fill=\"white\" points=\"-4,4 -4,-552 221,-552 221,4 -4,4\" stroke=\"none\"/>\n<!-- 140576771954392 -->\n<g class=\"node\" id=\"node1\"><title>140576771954392</title>\n<polygon fill=\"none\" points=\"45.5,-511.5 45.5,-547.5 171.5,-547.5 171.5,-511.5 45.5,-511.5\" stroke=\"black\"/>\n<text font-family=\"Times,serif\" font-size=\"14.00\" text-anchor=\"middle\" x=\"108.5\" y=\"-525.8\">input_1: InputLayer</text>\n</g>\n<!-- 140576771915392 -->\n<g class=\"node\" id=\"node2\"><title>140576771915392</title>\n<polygon fill=\"none\" points=\"0,-438.5 0,-474.5 217,-474.5 217,-438.5 0,-438.5\" stroke=\"black\"/>\n<text font-family=\"Times,serif\" font-size=\"14.00\" text-anchor=\"middle\" x=\"108.5\" y=\"-452.8\">zero_padding2d_1: ZeroPadding2D</text>\n</g>\n<!-- 140576771954392&#45;&gt;140576771915392 -->\n<g class=\"edge\" id=\"edge1\"><title>140576771954392-&gt;140576771915392</title>\n<path d=\"M108.5,-511.313C108.5,-503.289 108.5,-493.547 108.5,-484.569\" fill=\"none\" stroke=\"black\"/>\n<polygon fill=\"black\" points=\"112,-484.529 108.5,-474.529 105,-484.529 112,-484.529\" stroke=\"black\"/>\n</g>\n<!-- 140576771915448 -->\n<g class=\"node\" id=\"node3\"><title>140576771915448</title>\n<polygon fill=\"none\" points=\"56,-365.5 56,-401.5 161,-401.5 161,-365.5 56,-365.5\" stroke=\"black\"/>\n<text font-family=\"Times,serif\" font-size=\"14.00\" text-anchor=\"middle\" x=\"108.5\" y=\"-379.8\">conv0: Conv2D</text>\n</g>\n<!-- 140576771915392&#45;&gt;140576771915448 -->\n<g class=\"edge\" id=\"edge2\"><title>140576771915392-&gt;140576771915448</title>\n<path d=\"M108.5,-438.313C108.5,-430.289 108.5,-420.547 108.5,-411.569\" fill=\"none\" stroke=\"black\"/>\n<polygon fill=\"black\" points=\"112,-411.529 108.5,-401.529 105,-411.529 112,-411.529\" stroke=\"black\"/>\n</g>\n<!-- 140576771912480 -->\n<g class=\"node\" id=\"node4\"><title>140576771912480</title>\n<polygon fill=\"none\" points=\"31.5,-292.5 31.5,-328.5 185.5,-328.5 185.5,-292.5 31.5,-292.5\" stroke=\"black\"/>\n<text font-family=\"Times,serif\" font-size=\"14.00\" text-anchor=\"middle\" x=\"108.5\" y=\"-306.8\">bn0: BatchNormalization</text>\n</g>\n<!-- 140576771915448&#45;&gt;140576771912480 -->\n<g class=\"edge\" id=\"edge3\"><title>140576771915448-&gt;140576771912480</title>\n<path d=\"M108.5,-365.313C108.5,-357.289 108.5,-347.547 108.5,-338.569\" fill=\"none\" stroke=\"black\"/>\n<polygon fill=\"black\" points=\"112,-338.529 108.5,-328.529 105,-338.529 112,-338.529\" stroke=\"black\"/>\n</g>\n<!-- 140576771912872 -->\n<g class=\"node\" id=\"node5\"><title>140576771912872</title>\n<polygon fill=\"none\" points=\"35,-219.5 35,-255.5 182,-255.5 182,-219.5 35,-219.5\" stroke=\"black\"/>\n<text font-family=\"Times,serif\" font-size=\"14.00\" text-anchor=\"middle\" x=\"108.5\" y=\"-233.8\">activation_1: Activation</text>\n</g>\n<!-- 140576771912480&#45;&gt;140576771912872 -->\n<g class=\"edge\" id=\"edge4\"><title>140576771912480-&gt;140576771912872</title>\n<path d=\"M108.5,-292.313C108.5,-284.289 108.5,-274.547 108.5,-265.569\" fill=\"none\" stroke=\"black\"/>\n<polygon fill=\"black\" points=\"112,-265.529 108.5,-255.529 105,-265.529 112,-265.529\" stroke=\"black\"/>\n</g>\n<!-- 140576771956688 -->\n<g class=\"node\" id=\"node6\"><title>140576771956688</title>\n<polygon fill=\"none\" points=\"26.5,-146.5 26.5,-182.5 190.5,-182.5 190.5,-146.5 26.5,-146.5\" stroke=\"black\"/>\n<text font-family=\"Times,serif\" font-size=\"14.00\" text-anchor=\"middle\" x=\"108.5\" y=\"-160.8\">max_pool: MaxPooling2D</text>\n</g>\n<!-- 140576771912872&#45;&gt;140576771956688 -->\n<g class=\"edge\" id=\"edge5\"><title>140576771912872-&gt;140576771956688</title>\n<path d=\"M108.5,-219.313C108.5,-211.289 108.5,-201.547 108.5,-192.569\" fill=\"none\" stroke=\"black\"/>\n<polygon fill=\"black\" points=\"112,-192.529 108.5,-182.529 105,-192.529 112,-192.529\" stroke=\"black\"/>\n</g>\n<!-- 140576771655720 -->\n<g class=\"node\" id=\"node7\"><title>140576771655720</title>\n<polygon fill=\"none\" points=\"54,-73.5 54,-109.5 163,-109.5 163,-73.5 54,-73.5\" stroke=\"black\"/>\n<text font-family=\"Times,serif\" font-size=\"14.00\" text-anchor=\"middle\" x=\"108.5\" y=\"-87.8\">flatten_1: Flatten</text>\n</g>\n<!-- 140576771956688&#45;&gt;140576771655720 -->\n<g class=\"edge\" id=\"edge6\"><title>140576771956688-&gt;140576771655720</title>\n<path d=\"M108.5,-146.313C108.5,-138.289 108.5,-128.547 108.5,-119.569\" fill=\"none\" stroke=\"black\"/>\n<polygon fill=\"black\" points=\"112,-119.529 108.5,-109.529 105,-119.529 112,-119.529\" stroke=\"black\"/>\n</g>\n<!-- 140576771230632 -->\n<g class=\"node\" id=\"node8\"><title>140576771230632</title>\n<polygon fill=\"none\" points=\"74,-0.5 74,-36.5 143,-36.5 143,-0.5 74,-0.5\" stroke=\"black\"/>\n<text font-family=\"Times,serif\" font-size=\"14.00\" text-anchor=\"middle\" x=\"108.5\" y=\"-14.8\">fc: Dense</text>\n</g>\n<!-- 140576771655720&#45;&gt;140576771230632 -->\n<g class=\"edge\" id=\"edge7\"><title>140576771655720-&gt;140576771230632</title>\n<path d=\"M108.5,-73.3129C108.5,-65.2895 108.5,-55.5475 108.5,-46.5691\" fill=\"none\" stroke=\"black\"/>\n<polygon fill=\"black\" points=\"112,-46.5288 108.5,-36.5288 105,-46.5289 112,-46.5288\" stroke=\"black\"/>\n</g>\n</g>\n</svg>",
            "text/plain": [
              "<IPython.core.display.SVG object>"
            ]
          },
          "metadata": {
            "tags": []
          },
          "execution_count": 10
        }
      ]
    }
  ]
}
