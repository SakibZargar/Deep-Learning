{
 "cells": [
  {
   "cell_type": "code",
   "execution_count": 1,
   "metadata": {
    "collapsed": true
   },
   "outputs": [],
   "source": [
    "import numpy  as np\n",
    "import pandas as pd\n",
    "import matplotlib.pyplot as plt\n",
    "\n",
    "% matplotlib inline"
   ]
  },
  {
   "cell_type": "markdown",
   "metadata": {},
   "source": [
    "# (0) Activation functions      :------------------------------------------------------------"
   ]
  },
  {
   "cell_type": "code",
   "execution_count": 83,
   "metadata": {
    "collapsed": true
   },
   "outputs": [],
   "source": [
    "def sigmoid(Z):\n",
    "    A = 1/(1+np.exp(-Z))\n",
    "    cache= Z\n",
    "    return (A,Z)\n",
    "def sigmoid_backward(dA, activation_cache):\n",
    "    der_sigmoid= sigmoid(np.array(activation_cache))[0]*(1-sigmoid(np.array(activation_cache))[0])\n",
    "    dZ= np.multiply(dA,der_sigmoid)\n",
    "    return(dZ)"
   ]
  },
  {
   "cell_type": "code",
   "execution_count": null,
   "metadata": {
    "collapsed": true
   },
   "outputs": [],
   "source": [
    "def tanh(Z):\n",
    "    A = np.tanh(Z)\n",
    "    cache= Z\n",
    "    return (A,Z)\n",
    "def tanh_backward(dA, activation_cache):\n",
    "    der_tanh= 1-((tanh(np.array(activation_cache)))[0]**2)\n",
    "    dZ= np.multiply(dA,der_tanh)\n",
    "    return(dZ)"
   ]
  },
  {
   "cell_type": "code",
   "execution_count": null,
   "metadata": {
    "collapsed": true
   },
   "outputs": [],
   "source": [
    "def relu(Z):\n",
    "    A = max(0,Z)\n",
    "    cache= Z\n",
    "    return (A,Z)\n",
    "def relu_backward(dA, activation_cache):\n",
    "    if (activation_cache<0):\n",
    "        der_relu= 0\n",
    "    else:\n",
    "        der_relu= 1\n",
    "    dZ= np.multiply(dA,der_relu)\n",
    "    return(dZ)"
   ]
  },
  {
   "cell_type": "markdown",
   "metadata": {
    "collapsed": true
   },
   "source": [
    "# (1) Parameter initialization  :-----------------------------------------------------------"
   ]
  },
  {
   "cell_type": "code",
   "execution_count": 84,
   "metadata": {
    "collapsed": true
   },
   "outputs": [],
   "source": [
    "def parameter_initialization(network_architecture):\n",
    "    \"\"\"\n",
    "    Arguments:\n",
    "    network_architecture -- python list containing the NN architecture [n0,n1,n2,...,nL]\n",
    "\n",
    "    Returns  :\n",
    "    parameters -- python dictionary containing parameters \"W1\",\"b1\",\"W2\",\"b2\",...,\"WL\",\"bL\"\n",
    "\n",
    "    \"\"\"\n",
    "    parameters = {}\n",
    "    for l in range(1, len(network_architecture)):\n",
    "        parameters['W'+str(l)] = np.random.randn(network_architecture[l], network_architecture[l-1]) * 0.01\n",
    "        parameters['b'+str(l)] = np.zeros((network_architecture[l], 1))\n",
    "    return (parameters)"
   ]
  },
  {
   "cell_type": "markdown",
   "metadata": {},
   "source": [
    "# (2) Forward pass functions  :----------------------------------------------------------"
   ]
  },
  {
   "cell_type": "code",
   "execution_count": 85,
   "metadata": {
    "collapsed": true
   },
   "outputs": [],
   "source": [
    "def compute_Zl(A_prev, W, b):\n",
    "    \"\"\"\n",
    "    Arguments:\n",
    "    A_prev -- output of the previous layer\n",
    "    W -- weights matrix for the current layer: numpy array of shape (size of current layer, size of previous layer)\n",
    "    b -- bias vector for the current layer   : numpy array of shape (size of the current layer, 1)\n",
    "\n",
    "    Returns  :\n",
    "    Z -- input to the activation function for the current layer\n",
    "    cache -- a python dictionary containing \"A_prev\", \"W\" and \"b\" stored for computing the backward pass efficiently\n",
    "    \n",
    "    \"\"\"\n",
    "    Z = np.dot(W,A_prev)+b\n",
    "    assert(Z.shape == (W.shape[0], A_prev.shape[1]))\n",
    "    cache = (A_prev, W, b)\n",
    "    return (Z, cache)\n",
    "\n",
    "def compute_Al(A_prev, W, b, activation):\n",
    "    \"\"\"\n",
    "    Arguments:\n",
    "    A_prev -- output of the previous layer\n",
    "    W -- weights matrix for the current layer: numpy array of shape (size of current layer, size of previous layer)\n",
    "    b -- bias vector for the current layer   : numpy array of shape (size of the current layer, 1)\n",
    "    activation -- the activation to be used in this layer, stored as a text string: \"sigmoid\" or \"tanh\" or \"relu\"\n",
    "\n",
    "    Returns  :\n",
    "    A -- output of the current layer\n",
    "    cache -- a python dictionary containing \"A_prev\", \"W\", \"b\" (cache from compute_Zl()) and \"Z\" (cache from sigmoid() or tanh() or relu()) stored for computing the backward pass efficiently\n",
    "    \n",
    "    \"\"\"\n",
    "    if activation == \"sigmoid\":\n",
    "        Z, linear_cache = compute_Zl(A_prev,W,b)\n",
    "        A, activation_cache = sigmoid(Z)\n",
    "    elif activation == \"tanh\" :\n",
    "        Z, linear_cache = compute_Zl(A_prev,W,b)\n",
    "        A, activation_cache = tanh(Z)\n",
    "    elif activation == \"relu\" :\n",
    "        Z, linear_cache = compute_Zl(A_prev,W,b)\n",
    "        A, activation_cache = relu(Z)\n",
    "    assert (A.shape == (W.shape[0], A_prev.shape[1]))\n",
    "    cache = (linear_cache, activation_cache)\n",
    "    return (A, cache)\n",
    "\n",
    "def forward_propagation(X, parameters, activation):\n",
    "    \"\"\"\n",
    "    Arguments:\n",
    "    X -- data, numpy array of shape (n0,m)\n",
    "    parameters -- output of parameter_initialization() during training and update_parameters() during testing\n",
    "    activation -- the activation to be used for hidden layers, stored as a text string: \"sigmoid\" or \"tanh\" or \"relu\"\n",
    "    \n",
    "    Returns  :\n",
    "    AL -- output of the layer L\n",
    "    caches -- list of caches containing every cache of compute_Al() (there are L-1 of them)\n",
    "    \n",
    "    \"\"\"\n",
    "    caches= []\n",
    "    A = X\n",
    "    L = len(parameters)//2\n",
    "    for l in range(1, L):\n",
    "        A_prev   = A \n",
    "        if activation == \"sigmoid\":\n",
    "            A, cache = compute_Al(A_prev, parameters['W' + str(l)], parameters['b' + str(l)], \"sigmoid\")\n",
    "            caches.append(cache)\n",
    "        elif activation == \"tanh\":\n",
    "            A, cache = compute_Al(A_prev, parameters['W' + str(l)], parameters['b' + str(l)], \"tanh\")\n",
    "            caches.append(cache)\n",
    "        elif activation == \"relu\":\n",
    "            A, cache = compute_Al(A_prev, parameters['W' + str(l)], parameters['b' + str(l)], \"relu\")\n",
    "            caches.append(cache)  \n",
    "    AL, cache = compute_Al(A, parameters['W' + str(L)], parameters['b' + str(L)], \"sigmoid\")\n",
    "    caches.append(cache)\n",
    "    assert(AL.shape == (1,X.shape[1]))\n",
    "    return (AL, caches)\n"
   ]
  },
  {
   "cell_type": "markdown",
   "metadata": {},
   "source": [
    "# (3) Compute the Cost           :----------------------------------------------------------"
   ]
  },
  {
   "cell_type": "code",
   "execution_count": 86,
   "metadata": {
    "collapsed": true
   },
   "outputs": [],
   "source": [
    "def compute_cost(AL, Y):\n",
    "    \"\"\"\n",
    "    Arguments:\n",
    "    AL -- probability vector corresponding to your label predictions, shape (1, number of examples)\n",
    "     Y -- ground truth vector: numpy array of shape (1, number of training examples(m_train))\n",
    "    \n",
    "    Returns  :\n",
    "    cost -- cross-entropy cost\n",
    "    \"\"\"\n",
    "    m = Y.shape[1]\n",
    "    cost = -1/m*np.sum(np.multiply(Y,np.log(AL))+np.multiply((1-Y),np.log(1-AL)))\n",
    "    cost = np.squeeze(cost)\n",
    "    assert(cost.shape == ())\n",
    "    return (cost)"
   ]
  },
  {
   "cell_type": "markdown",
   "metadata": {},
   "source": [
    "# (4) Backward pass functions:----------------------------------------------------------"
   ]
  },
  {
   "cell_type": "code",
   "execution_count": 87,
   "metadata": {
    "collapsed": true
   },
   "outputs": [],
   "source": [
    "def compute_dParam(dZ, cache):\n",
    "    \"\"\"\n",
    "    Arguments:\n",
    "    dZ -- gradient of the cost with respect to the linear output (of current layer l)\n",
    "    cache -- tuple of values (A_prev, W, b) coming from the forward propagation in the current layer\n",
    "\n",
    "    Returns:\n",
    "    dA_prev -- gradient of the cost with respect to the activation (of the previous layer l-1)\n",
    "    dW -- gradient of the cost with respect to W (current layer l)\n",
    "    db -- gradient of the cost with respect to b (current layer l)\n",
    "    \n",
    "    \"\"\"\n",
    "    A_prev, W, b = cache\n",
    "    m = A_prev.shape[1]\n",
    "    dW = 1/m*np.dot(dZ,np.transpose(A_prev))\n",
    "    db = 1/m*np.sum(dZ,axis=1,keepdims=True)\n",
    "    dA_prev = np.dot(np.transpose(W),dZ)\n",
    "    return (dA_prev, dW, db)\n",
    "\n",
    "def compute_dZ_dParam(dA, cache, activation):\n",
    "    \"\"\"\n",
    "    Arguments:\n",
    "    dA -- post-activation gradient for current layer l \n",
    "    cache -- tuple of values (linear_cache, activation_cache) we store for computing backward propagation efficiently\n",
    "    activation -- the activation to be used in this layer, stored as a text string: \"sigmoid\" or \"tanh\" or \"relu\" (same as used in forward propagation)\n",
    "    \n",
    "    Returns  :\n",
    "    dA_prev -- gradient of the cost with respect to the activation (of the previous layer l-1)\n",
    "    dW -- gradient of the cost with respect to W (current layer l)\n",
    "    db -- gradient of the cost with respect to b (current layer l)\n",
    "    \n",
    "    \"\"\"\n",
    "    linear_cache, activation_cache = cache\n",
    "    if activation == \"sigmoid\":\n",
    "        dZ = sigmoid_backward(dA, activation_cache)\n",
    "        dA_prev, dW, db = compute_dParam(dZ, linear_cache)\n",
    "    elif activation == \"tanh\":\n",
    "        dZ = tanh_backward(dA, activation_cache)\n",
    "        dA_prev, dW, db = compute_dParam(dZ, linear_cache)\n",
    "    elif activation == \"relu\":\n",
    "        dZ = relu_backward(dA, activation_cache)\n",
    "        dA_prev, dW, db = compute_dParam(dZ, linear_cache)\n",
    "    return (dA_prev, dW, db)\n",
    "\n",
    "def backward_propagation(AL, Y, caches, activation):\n",
    "    \"\"\"\n",
    "    Arguments:\n",
    "    AL -- output of forward propagation (forward_propagation())\n",
    "     Y -- true \"label\" vector \n",
    "    caches -- list of caches containing every cache of compute_Al() (there are L-1 of them)\n",
    "    activation -- the activation to be used for hidden layers, stored as a text string: \"sigmoid\" or \"tanh\" or \"relu\"\n",
    "    \n",
    "    Returns  :\n",
    "    grads -- A dictionary with the gradients\n",
    "             grads[\"dA\" + str(l)] = ... \n",
    "             grads[\"dW\" + str(l)] = ...\n",
    "             grads[\"db\" + str(l)] = ... \n",
    "    \"\"\"\n",
    "    grads = {}\n",
    "    L = len(caches) \n",
    "    m = AL.shape[1]\n",
    "    Y = Y.reshape(AL.shape) \n",
    "    \n",
    "    dAL = - (np.divide(Y, AL) - np.divide(1 - Y, 1 - AL))\n",
    "   \n",
    "    current_cache = caches[L-1]\n",
    "    grads[\"dA\" + str(L-1)], grads[\"dW\" + str(L)], grads[\"db\" + str(L)] = compute_dZ_dParam(dAL, current_cache, \"sigmoid\")\n",
    "    \n",
    "    for l in reversed(range(L-1)):\n",
    "        current_cache = caches[l]\n",
    "        dA_prev_temp, dW_temp, db_temp = compute_dZ_dParam(grads[\"dA\" + str(l + 1)], current_cache, activation)\n",
    "        grads[\"dA\" + str(l)]     = dA_prev_temp\n",
    "        grads[\"dW\" + str(l + 1)] = dW_temp\n",
    "        grads[\"db\" + str(l + 1)] = db_temp\n",
    "\n",
    "    return (grads)"
   ]
  },
  {
   "cell_type": "markdown",
   "metadata": {},
   "source": [
    "# (5) Updating the Parameters:----------------------------------------------------------"
   ]
  },
  {
   "cell_type": "code",
   "execution_count": 88,
   "metadata": {
    "collapsed": true
   },
   "outputs": [],
   "source": [
    "def update_parameters(parameters, grads, learning_rate):\n",
    "    \"\"\"\n",
    "    Arguments:\n",
    "    parameters -- python dictionary containing parameters \n",
    "    grads -- python dictionary containing gradients, output of backward_propagation()\n",
    "    \n",
    "    Returns  :\n",
    "    parameters -- python dictionary containing updated parameters \n",
    "                  parameters[\"W\" + str(l)] = ... \n",
    "                  parameters[\"b\" + str(l)] = ...\n",
    "    \"\"\"\n",
    "    L = len(parameters) // 2\n",
    "    for l in range(L):\n",
    "        parameters[\"W\" + str(l+1)] = parameters[\"W\" + str(l+1)]-(learning_rate*grads[\"dW\" + str(l+1)])\n",
    "        parameters[\"b\" + str(l+1)] = parameters[\"b\" + str(l+1)]-(learning_rate*grads[\"db\" + str(l+1)])\n",
    "    return (parameters)"
   ]
  },
  {
   "cell_type": "code",
   "execution_count": null,
   "metadata": {
    "collapsed": true
   },
   "outputs": [],
   "source": []
  },
  {
   "cell_type": "markdown",
   "metadata": {},
   "source": [
    "# --------------------------<< Training the Network >>----------------------------------"
   ]
  },
  {
   "cell_type": "code",
   "execution_count": null,
   "metadata": {
    "collapsed": true
   },
   "outputs": [],
   "source": [
    "def train_NN(X, Y, network_architecture, activation, num_iterations, learning_rate, print_cost):\n",
    "    \"\"\"\n",
    "    Trains an L-layer neural network\n",
    "    \n",
    "    Arguments:\n",
    "    X -- training data: numpy array of shape (number of input features(n0), number of training examples(m_train))\n",
    "    Y -- ground truth vector: numpy array of shape (1, number of training examples(m_train))\n",
    "    network_architecture -- python list containing the NN architecture [n0,n1,n2,...nL]\n",
    "    activation -- the activation to be used for hidden layers, stored as a text string: \"sigmoid\" or \"tanh\" or \"relu\"\n",
    "    num_iterations -- number of iterations of the optimization loop\n",
    "    learning_rate -- learning rate of the gradient descent update rule\n",
    "    print_cost -- if True, it prints the cost every 100 steps\n",
    "    \n",
    "    Returns :\n",
    "    parameters -- parameters learnt by the model. They can then be used to predict.\n",
    "    \n",
    "    \"\"\"\n",
    "    costs = []\n",
    "    parameters = parameter_initialization(network_architecture)\n",
    "    for i in range(0, int(num_iterations)):\n",
    "        AL, caches = forward_propagation(X, parameters, activation)\n",
    "        cost  = compute_cost(AL, Y)\n",
    "        grads = backward_propagation(AL, Y, caches, activation)\n",
    "        parameters = update_parameters(parameters, grads, learning_rate)\n",
    "        if print_cost and i % 100 == 0:\n",
    "            print (\"Cost after iteration %i: %f\" %(i, cost))\n",
    "        if print_cost and i % 100 == 0:\n",
    "            costs.append(cost)\n",
    "    plt.plot(np.squeeze(costs))\n",
    "    plt.ylabel('cost')\n",
    "    plt.xlabel('iterations (per tens)')\n",
    "    plt.title(\"Learning rate =\" + str(learning_rate))\n",
    "    plt.show()\n",
    "    \n",
    "    return (parameters)"
   ]
  },
  {
   "cell_type": "code",
   "execution_count": null,
   "metadata": {
    "collapsed": true
   },
   "outputs": [],
   "source": []
  },
  {
   "cell_type": "markdown",
   "metadata": {},
   "source": [
    "# --------------------------<<     Implementation     >>----------------------------------"
   ]
  },
  {
   "cell_type": "code",
   "execution_count": 89,
   "metadata": {
    "collapsed": true
   },
   "outputs": [],
   "source": [
    "def predict(X, Y, parameters,activation):\n",
    "    m = X.shape[1]\n",
    "    Y_prediction = np.zeros((1,m))\n",
    "    AL = forward_propagation(X, parameters, activation)[0]\n",
    "    for i in range(AL.shape[1]):\n",
    "        if AL[0,i]<=0.5:\n",
    "            AL[0,i]=0\n",
    "        else:\n",
    "            AL[0,i]=1\n",
    "        Y_prediction = AL\n",
    "    return (Y_prediction)"
   ]
  },
  {
   "cell_type": "code",
   "execution_count": 91,
   "metadata": {
    "collapsed": true
   },
   "outputs": [],
   "source": [
    "def NN_model(X_train, Y_train, X_test, Y_test, network_architecture, activation, num_iterations, learning_rate, print_cost):\n",
    "    \"\"\"\n",
    "    Computes the output of an L-layer neural network (training and test accuracy)\n",
    "    \n",
    "    Arguments:\n",
    "    X_train -- training data: numpy array of shape (number of input features(n0), number of training examples(m_train))\n",
    "    Y_train -- ground truth vector: numpy array of shape (1, number of training examples(m_train))\n",
    "    X_test  -- test data: numpy array of shape (number of input features(n0), number of test examples(m_test))\n",
    "    Y_test  -- ground truth vector: numpy array of shape (1, number of test examples(m_test))\n",
    "    network_architecture -- python list containing the NN architecture [n0,n1,n2,...nL]\n",
    "    activation -- the activation to be used for hidden layers, stored as a text string: \"sigmoid\" or \"tanh\" or \"relu\"\n",
    "    num_iterations -- number of iterations of the optimization loop\n",
    "    learning_rate -- learning rate of the gradient descent update rule\n",
    "    print_cost -- if True, it prints the cost every 100 steps\n",
    "\n",
    "    \"\"\"\n",
    "    parameters = train_NN(X_train, Y_train, network_architecture, activation, num_iterations, learning_rate, print_cost)\n",
    "    \n",
    "    Y_prediction_train= predict(X_train, Y_train, parameters, activation)\n",
    "    Y_prediction_test = predict(X_test , Y_test , parameters, activation)\n",
    "    \n",
    "    print(\"train accuracy: {} %\".format(100 - np.mean(np.abs(Y_prediction_train - Y_train)) * 100))\n",
    "    print(\"test accuracy: {} %\".format(100 - np.mean(np.abs(Y_prediction_test - Y_test)) * 100))"
   ]
  },
  {
   "cell_type": "code",
   "execution_count": null,
   "metadata": {
    "collapsed": true
   },
   "outputs": [],
   "source": []
  }
 ],
 "metadata": {
  "kernelspec": {
   "display_name": "Python 3",
   "language": "python",
   "name": "python3"
  },
  "language_info": {
   "codemirror_mode": {
    "name": "ipython",
    "version": 3
   },
   "file_extension": ".py",
   "mimetype": "text/x-python",
   "name": "python",
   "nbconvert_exporter": "python",
   "pygments_lexer": "ipython3",
   "version": "3.8.5"
  }
 },
 "nbformat": 4,
 "nbformat_minor": 2
}
